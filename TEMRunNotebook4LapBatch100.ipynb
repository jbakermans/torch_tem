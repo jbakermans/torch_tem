{
 "cells": [
  {
   "cell_type": "markdown",
   "id": "8cd5b1a3-e5f3-4e94-91f3-c1d3b466c725",
   "metadata": {},
   "source": [
    "http://localhost:8890/?token=632b236948ad1e1214ee67b0c1c0c55d346a1bc6fee05ef1 :: /home/cholobetz/projects/torch_tem"
   ]
  },
  {
   "cell_type": "code",
   "execution_count": 1,
   "id": "a14205db-da33-41db-a6a8-65e325474d8d",
   "metadata": {},
   "outputs": [],
   "source": [
    "def print_proper_time(seconds):\n",
    "    # hours\n",
    "    if seconds > 3600:\n",
    "        output_str = '{0} hours'.format(seconds / 3600)\n",
    "    # minutes\n",
    "    elif seconds > 60:\n",
    "        output_str = '{0} minutes'.format(seconds / 60)\n",
    "    # seconds\n",
    "    else:\n",
    "        output_str = '{0} seconds'.format(seconds)\n",
    "    return 'Finished running in ' + output_str"
   ]
  },
  {
   "cell_type": "code",
   "execution_count": 2,
   "id": "6ddc2824-82d6-4cb8-8104-5277d6b61341",
   "metadata": {},
   "outputs": [],
   "source": [
    "from time import time\n",
    "import parameters\n",
    "import run\n",
    "import importlib"
   ]
  },
  {
   "cell_type": "code",
   "execution_count": 3,
   "id": "005656ac-4441-4081-b4ef-fe4d4b5ff5eb",
   "metadata": {},
   "outputs": [
    {
     "data": {
      "text/plain": [
       "<module 'parameters' from '/home/cholobetz/projects/torch_tem/parameters.py'>"
      ]
     },
     "execution_count": 3,
     "metadata": {},
     "output_type": "execute_result"
    }
   ],
   "source": [
    "importlib.reload(run)\n",
    "importlib.reload(parameters)"
   ]
  },
  {
   "cell_type": "code",
   "execution_count": 4,
   "id": "c78bc16c-41d4-41a7-b402-acbdef843b29",
   "metadata": {},
   "outputs": [],
   "source": [
    "custom_params = {}\n",
    "\n",
    "custom_params['envs'] = ['./envs/4Lap.json']\n",
    "custom_params['train_it'] = 50000\n",
    "custom_params['batch_size'] = 100\n",
    "custom_params['n_rollout'] = 100\n",
    "custom_params['n_g_subsampled'] = [6, 6, 5, 4, 4]\n",
    "# Default n_g is just 3x n_g_subsampled, but TEM paper specifies this architecture for loop_laps\n",
    "custom_params['n_g'] = [18, 18, 15, 15, 15]\n",
    "custom_params['n_x'] = 9"
   ]
  },
  {
   "cell_type": "code",
   "execution_count": null,
   "id": "d9623d86-6c18-4e38-b7f7-9ce515edb29d",
   "metadata": {},
   "outputs": [],
   "source": [
    "params = parameters.parameters(custom_params)"
   ]
  },
  {
   "cell_type": "code",
   "execution_count": 6,
   "id": "9408a577-b182-43ab-917e-9a53c6586180",
   "metadata": {},
   "outputs": [
    {
     "data": {
      "text/plain": [
       "torch.Size([6, 60])"
      ]
     },
     "execution_count": 6,
     "metadata": {},
     "output_type": "execute_result"
    }
   ],
   "source": [
    "params['W_repeat'][0].shape"
   ]
  },
  {
   "cell_type": "markdown",
   "id": "6765698e-16ca-4f01-9f4c-45f88a395218",
   "metadata": {},
   "source": [
    "### Run in 2 loop_lap environments"
   ]
  },
  {
   "cell_type": "code",
   "execution_count": null,
   "id": "3a54de90-2ae6-407a-a928-fb9586b8ea78",
   "metadata": {},
   "outputs": [
    {
     "name": "stdout",
     "output_type": "stream",
     "text": [
      "ran forward method\n"
     ]
    }
   ],
   "source": [
    "time0 = time()\n",
    "\n",
    "run.run_model(load_existing_model=False, **params)\n"
   ]
  },
  {
   "cell_type": "code",
   "execution_count": null,
   "id": "82bf7456-a45f-4502-a296-046a2e6c0b1a",
   "metadata": {},
   "outputs": [],
   "source": [
    "print_proper_time(time() - time0)"
   ]
  }
 ],
 "metadata": {
  "kernelspec": {
   "display_name": "Python 3",
   "language": "python",
   "name": "python3"
  },
  "language_info": {
   "codemirror_mode": {
    "name": "ipython",
    "version": 3
   },
   "file_extension": ".py",
   "mimetype": "text/x-python",
   "name": "python",
   "nbconvert_exporter": "python",
   "pygments_lexer": "ipython3",
   "version": "3.9.7"
  }
 },
 "nbformat": 4,
 "nbformat_minor": 5
}
