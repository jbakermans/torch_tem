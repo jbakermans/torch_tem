{
 "cells": [
  {
   "cell_type": "code",
   "execution_count": 14,
   "id": "cf1e8272-fe83-410a-9fe7-8f6ac0cb1ef8",
   "metadata": {},
   "outputs": [],
   "source": [
    "import sys\n",
    "import numpy\n",
    "numpy.set_printoptions(threshold=False)"
   ]
  },
  {
   "cell_type": "code",
   "execution_count": null,
   "id": "9afbc230-77ff-4bd4-81f5-074f90a28808",
   "metadata": {},
   "outputs": [],
   "source": [
    "def loop_laps_world(width, n_laps, stay_still=False):\n",
    "    n_states = n_laps * (2 * width + 2 * (width - 2))\n",
    "\n",
    "    adj = np.zeros((n_states, n_states))\n",
    "\n",
    "    # go round track twice\n",
    "    for i in range(n_states):\n",
    "        if i < n_states - 1:\n",
    "            adj[i, i + 1] = 1\n",
    "\n",
    "        if stay_still:\n",
    "            adj[i, i] = 1\n",
    "\n",
    "    # lap to beginning:\n",
    "    adj[n_states - 1, 0] = 1\n",
    "\n",
    "    tran = np.zeros((n_states, n_states))\n",
    "    for i in range(n_states):\n",
    "        if sum(adj[i]) > 0:\n",
    "            tran[i] = adj[i] / sum(adj[i])\n",
    "\n",
    "    return adj, tran"
   ]
  },
  {
   "cell_type": "code",
   "execution_count": 45,
   "id": "94e6a7b8-317c-46c8-be38-b30276cdfdbf",
   "metadata": {},
   "outputs": [],
   "source": [
    "def square_world(width, stay_still=False):\n",
    "    \"\"\"\n",
    "        #state number counts accross then down\n",
    "        a = np.asarray(range(25))\n",
    "        print(a)\n",
    "        print(np.reshape(a,(5,5)))\n",
    "        [ 0  1  2  3  4  5  6  7  8  9 10 11 12 13 14 15 16 17 18 19 20 21 22 23 24]\n",
    "        [[ 0  1  2  3  4]\n",
    "         [ 5  6  7  8  9]\n",
    "         [10 11 12 13 14]\n",
    "         [15 16 17 18 19]\n",
    "         [20 21 22 23 24]]\n",
    "    \"\"\"\n",
    "    states = int(width ** 2)\n",
    "    adj = np.zeros((states, states))\n",
    "\n",
    "    for i in range(states):\n",
    "        # stay still\n",
    "        if stay_still:\n",
    "            adj[i, i] = 1\n",
    "        # up - down\n",
    "        if i + width < states:\n",
    "            adj[i, i + width] = 1\n",
    "            adj[i + width, i] = 1\n",
    "            # left - right\n",
    "        if np.mod(i, width) != 0:\n",
    "            adj[i, i - 1] = 1\n",
    "            adj[i - 1, i] = 1\n",
    "\n",
    "    tran = np.zeros((states, states))\n",
    "    for i in range(states):\n",
    "        if sum(adj[i]) > 0:\n",
    "            tran[i] = adj[i] / sum(adj[i])\n",
    "\n",
    "    return adj, tran"
   ]
  },
  {
   "cell_type": "code",
   "execution_count": 56,
   "id": "b64d1b1d-b6aa-4e6a-9236-eabe2bc12d49",
   "metadata": {},
   "outputs": [
    {
     "data": {
      "text/plain": [
       "False"
      ]
     },
     "execution_count": 56,
     "metadata": {},
     "output_type": "execute_result"
    }
   ],
   "source": [
    "size8_4Lap = loop_laps_world(3, 4)\n",
    "\n",
    "False in (size8_4Lap[0] == size8_4Lap[1])"
   ]
  },
  {
   "cell_type": "code",
   "execution_count": 57,
   "id": "6a643b70-d2e5-477c-ae87-dd305e23ff21",
   "metadata": {},
   "outputs": [
    {
     "data": {
      "text/plain": [
       "array([ True,  True,  True,  True,  True])"
      ]
     },
     "execution_count": 57,
     "metadata": {},
     "output_type": "execute_result"
    }
   ],
   "source": [
    "np.zeros(5) == np.zeros(5)"
   ]
  },
  {
   "cell_type": "code",
   "execution_count": 47,
   "id": "e8a93f2b-1173-4eb2-9a39-6caaaaf1e063",
   "metadata": {},
   "outputs": [
    {
     "data": {
      "text/plain": [
       "array([[1., 1., 0., ..., 0., 0., 0.],\n",
       "       [1., 1., 1., ..., 0., 0., 0.],\n",
       "       [0., 1., 1., ..., 0., 0., 0.],\n",
       "       ...,\n",
       "       [0., 0., 0., ..., 1., 1., 0.],\n",
       "       [0., 0., 0., ..., 1., 1., 1.],\n",
       "       [0., 0., 0., ..., 0., 1., 1.]])"
      ]
     },
     "execution_count": 47,
     "metadata": {},
     "output_type": "execute_result"
    }
   ],
   "source": [
    "square_world(4, 4)[0]"
   ]
  },
  {
   "cell_type": "code",
   "execution_count": 64,
   "id": "be4394d5-0636-4d1a-bf4f-9eb1bf7267e2",
   "metadata": {},
   "outputs": [
    {
     "name": "stdout",
     "output_type": "stream",
     "text": [
      "3 4\n",
      "4 5\n"
     ]
    }
   ],
   "source": [
    "for num, i in enumerate([1, 2, 3, 4, 5][3:]):\n",
    "    print(num + 3, i) "
   ]
  },
  {
   "cell_type": "code",
   "execution_count": null,
   "id": "a6f6b5bc-04e3-4c8b-b692-d2f3f12882b3",
   "metadata": {},
   "outputs": [],
   "source": []
  }
 ],
 "metadata": {
  "kernelspec": {
   "display_name": "Python 3",
   "language": "python",
   "name": "python3"
  },
  "language_info": {
   "codemirror_mode": {
    "name": "ipython",
    "version": 3
   },
   "file_extension": ".py",
   "mimetype": "text/x-python",
   "name": "python",
   "nbconvert_exporter": "python",
   "pygments_lexer": "ipython3",
   "version": "3.9.7"
  }
 },
 "nbformat": 4,
 "nbformat_minor": 5
}
