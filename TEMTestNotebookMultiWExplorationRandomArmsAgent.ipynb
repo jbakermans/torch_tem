{
 "cells": [
  {
   "cell_type": "markdown",
   "id": "a9059f3f-a5c8-48dc-90d0-655ece0e702e",
   "metadata": {},
   "source": [
    "## MultiWExploration on 2022-04-21 with batch_size=16 and n_rollout=50 and random_arms policy"
   ]
  },
  {
   "cell_type": "code",
   "execution_count": 1,
   "id": "951870fa-d340-4439-9399-5b00d311d56a",
   "metadata": {},
   "outputs": [],
   "source": [
    "from time import time\n",
    "import utils\n",
    "import plot\n",
    "import test\n",
    "import analyse\n",
    "import model\n",
    "import numpy as np\n",
    "import torch"
   ]
  },
  {
   "cell_type": "code",
   "execution_count": 2,
   "id": "f99753e6-e5a2-49b3-b0a9-2cc8b9f5abf2",
   "metadata": {},
   "outputs": [],
   "source": [
    "DATE = '2022-04-21'\n",
    "RUN = '1'\n",
    "PATH = '/cumulus/cristofer/TEM_data/{0}/run{1}/model/'.format(DATE, RUN)\n",
    "SAVE_DIR = '/cumulus/cristofer/TEM_figs/{0}/run{1}/'.format(DATE, RUN)"
   ]
  },
  {
   "cell_type": "code",
   "execution_count": 7,
   "id": "5a7656ea-f780-4836-a201-90a2e56b07f4",
   "metadata": {},
   "outputs": [
    {
     "data": {
      "text/plain": [
       "['0',\n",
       " '1000',\n",
       " '2000',\n",
       " '3000',\n",
       " '4000',\n",
       " '5000',\n",
       " '6000',\n",
       " '7000',\n",
       " '8000',\n",
       " '9000',\n",
       " '10000',\n",
       " '11000',\n",
       " '12000',\n",
       " '13000',\n",
       " '14000',\n",
       " '15000',\n",
       " '16000',\n",
       " '17000',\n",
       " '18000',\n",
       " '19000',\n",
       " '20000',\n",
       " '21000',\n",
       " '22000',\n",
       " '23000',\n",
       " '24000',\n",
       " '25000',\n",
       " '26000',\n",
       " '27000',\n",
       " '28000',\n",
       " '29000',\n",
       " '30000',\n",
       " '31000',\n",
       " '32000',\n",
       " '33000',\n",
       " '34000',\n",
       " '35000',\n",
       " '36000',\n",
       " '37000',\n",
       " '38000',\n",
       " '39000',\n",
       " '40000',\n",
       " '41000',\n",
       " '42000',\n",
       " '43000',\n",
       " '44000',\n",
       " '45000',\n",
       " '46000',\n",
       " '47000',\n",
       " '48000',\n",
       " '49000']"
      ]
     },
     "execution_count": 7,
     "metadata": {},
     "output_type": "execute_result"
    }
   ],
   "source": [
    "finished_testing"
   ]
  },
  {
   "cell_type": "code",
   "execution_count": 8,
   "id": "c31d8165-ddd4-440c-bab5-83c20564713b",
   "metadata": {},
   "outputs": [],
   "source": [
    "ALREADY_TESTED = finished_testing"
   ]
  },
  {
   "cell_type": "code",
   "execution_count": null,
   "id": "3622f8a5-b66d-49c6-80b5-28919a2f251c",
   "metadata": {
    "scrolled": true,
    "tags": []
   },
   "outputs": [
    {
     "name": "stdout",
     "output_type": "stream",
     "text": [
      "Found these untested indexes: ['49999']\n",
      "Attempting to test all at 21:32:43, 2022-04-24\n"
     ]
    },
    {
     "data": {
      "image/png": "[encoded data removed]",
      "text/plain": [
       "<Figure size 432x288 with 1 Axes>"
      ]
     },
     "metadata": {
      "needs_background": "light"
     },
     "output_type": "display_data"
    }
   ],
   "source": [
    "finished_testing = test.test_recurring(save_dir=SAVE_DIR, model_directory_path=PATH, date=DATE, run=RUN, env_to_plot=0, which_plots=['zero-shot', 'rate_maps'], seed=0, columns=13, already_tested=ALREADY_TESTED, test_period=172800, test_interval=18000)"
   ]
  },
  {
   "cell_type": "code",
   "execution_count": 6,
   "id": "a7af973a-2335-4fbb-938e-d4dd76390beb",
   "metadata": {},
   "outputs": [
    {
     "data": {
      "text/plain": [
       "['0',\n",
       " '1000',\n",
       " '2000',\n",
       " '3000',\n",
       " '4000',\n",
       " '5000',\n",
       " '6000',\n",
       " '7000',\n",
       " '8000',\n",
       " '9000',\n",
       " '10000',\n",
       " '11000',\n",
       " '12000',\n",
       " '13000',\n",
       " '14000',\n",
       " '15000',\n",
       " '16000',\n",
       " '17000',\n",
       " '18000',\n",
       " '19000',\n",
       " '20000',\n",
       " '21000',\n",
       " '22000',\n",
       " '23000',\n",
       " '24000',\n",
       " '25000',\n",
       " '26000',\n",
       " '27000',\n",
       " '28000',\n",
       " '29000',\n",
       " '30000',\n",
       " '31000',\n",
       " '32000',\n",
       " '33000',\n",
       " '34000',\n",
       " '35000',\n",
       " '36000',\n",
       " '37000',\n",
       " '38000',\n",
       " '39000',\n",
       " '40000',\n",
       " '41000',\n",
       " '42000',\n",
       " '43000',\n",
       " '44000',\n",
       " '45000',\n",
       " '46000',\n",
       " '47000',\n",
       " '48000',\n",
       " '49000']"
      ]
     },
     "execution_count": 6,
     "metadata": {},
     "output_type": "execute_result"
    }
   ],
   "source": [
    "finished_testing"
   ]
  },
  {
   "cell_type": "code",
   "execution_count": null,
   "id": "7472c8b3-3836-40f7-aaef-6ea0da19b5ca",
   "metadata": {},
   "outputs": [],
   "source": []
  }
 ],
 "metadata": {
  "kernelspec": {
   "display_name": "Python 3",
   "language": "python",
   "name": "python3"
  },
  "language_info": {
   "codemirror_mode": {
    "name": "ipython",
    "version": 3
   },
   "file_extension": ".py",
   "mimetype": "text/x-python",
   "name": "python",
   "nbconvert_exporter": "python",
   "pygments_lexer": "ipython3",
   "version": "3.9.7"
  }
 },
 "nbformat": 4,
 "nbformat_minor": 5
}
