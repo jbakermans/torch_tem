{
 "cells": [
  {
   "cell_type": "code",
   "execution_count": 1,
   "id": "38ad3e3f-b949-472e-8282-55c5b054964a",
   "metadata": {},
   "outputs": [],
   "source": [
    "import numpy as np"
   ]
  },
  {
   "cell_type": "code",
   "execution_count": 2,
   "id": "b7783860-8197-4d11-a663-828b07ca8331",
   "metadata": {},
   "outputs": [
    {
     "data": {
      "text/plain": [
       "0.6369616873214543"
      ]
     },
     "execution_count": 2,
     "metadata": {},
     "output_type": "execute_result"
    }
   ],
   "source": [
    "gen = np.random.default_rng(seed=0)\n",
    "gen.uniform()"
   ]
  },
  {
   "cell_type": "code",
   "execution_count": 3,
   "id": "7804d09b-cec8-415b-b064-e387c227ac32",
   "metadata": {},
   "outputs": [],
   "source": [
    "def generate_new_direction(prev_dir, curr_arm, directional_inertia, rng):\n",
    "    \n",
    "    # If not at an edge, use directional_inertia to determine if should keep or switch direction\n",
    "    if curr_arm % 5:\n",
    "        return prev_dir if rng.uniform() < directional_inertia else -prev_dir\n",
    "    \n",
    "    # If at an edge, immediately return opposite direction\n",
    "    return -prev_dir\n",
    "        "
   ]
  },
  {
   "cell_type": "code",
   "execution_count": 4,
   "id": "ab4260ce-fb95-4bef-a100-6fb3e235acba",
   "metadata": {},
   "outputs": [],
   "source": [
    "def generate_new_arm(curr_arm, new_dir, neighbor_preference, independent_arm_bias, rng):\n",
    "    \n",
    "    # Should agent transition to a neighbor arm?\n",
    "    if rng.uniform() < neighbor_preference:\n",
    "        return int(curr_arm + new_dir)\n",
    "    # But how do we take into account the fact that curr_arm=4 and new_dir=+1 FORCES a neighbor transition?\n",
    "    elif not ((curr_arm+new_dir)%5):    \n",
    "        return int(curr_arm + new_dir)\n",
    "    # If not, use independent arm bias to choose which arm to go to\n",
    "\n",
    "    all_arms = np.arange(6)\n",
    "\n",
    "    # Identify the possible arms\n",
    "    available_arms = all_arms[curr_arm+2:] if new_dir > 0 else all_arms[:curr_arm-1]\n",
    "    available_arm_probs = independent_arm_bias[available_arms]\n",
    "    normalized_available_arm_probs = np.divide(available_arm_probs, np.sum(available_arm_probs))\n",
    "    #print('{0}, {1}'.format(curr_arm, new_dir))\n",
    "    # return the new_arm based off of normalized independent_arm_biases\n",
    "    return rng.choice(available_arms, p=normalized_available_arm_probs)"
   ]
  },
  {
   "cell_type": "code",
   "execution_count": 5,
   "id": "3bf45234-a786-4336-8e7e-3584bb32038d",
   "metadata": {},
   "outputs": [],
   "source": [
    "def generate_walk(walk_len, directional_inertia, neighbor_preference, independent_arm_bias, seed=0):\n",
    "    \n",
    "    gen = np.random.default_rng(seed=seed)\n",
    "    all_arms = np.arange(6)\n",
    "    \n",
    "    prev_arm = 4\n",
    "    curr_arm = 3\n",
    "    \n",
    "    walk = [prev_arm, curr_arm]\n",
    "    \n",
    "    for _ in np.arange(walk_len-2):\n",
    "        #print(prev_arm, curr_arm, )\n",
    "        # current direction is +- 1, depending on whether curr_arm >= prev_arm\n",
    "        # We can assume curr_arm != prev_arm\n",
    "        curr_dir = ((curr_arm >= prev_arm) - 0.5) * 2\n",
    "    \n",
    "        new_dir = generate_new_direction(curr_dir, curr_arm, directional_inertia, gen)\n",
    "        new_arm = generate_new_arm(curr_arm, new_dir, neighbor_preference, independent_arm_bias, gen)\n",
    "        \n",
    "        walk.append(new_arm)\n",
    "        \n",
    "        prev_arm = curr_arm\n",
    "        curr_arm = new_arm\n",
    "        \n",
    "    return walk"
   ]
  },
  {
   "cell_type": "code",
   "execution_count": 6,
   "id": "9b080ecd-4ba3-484d-a0ab-71c3eca0cfc8",
   "metadata": {},
   "outputs": [],
   "source": [
    "def empirical_indep_arm_bias(walk):\n",
    "    \n",
    "    arm_idx = np.arange(6)\n",
    "    walk_len = len(walk)\n",
    "    arm_biases = [np.count_nonzero(walk == idx) / walk_len for idx in arm_idx]\n",
    "    \n",
    "    return arm_biases"
   ]
  },
  {
   "cell_type": "code",
   "execution_count": 7,
   "id": "94db9b05-06d9-41dc-97e9-727e58519b8e",
   "metadata": {},
   "outputs": [
    {
     "data": {
      "text/plain": [
       "array([0.18181818, 0.20909091, 0.2       , 0.08181818, 0.21818182,\n",
       "       0.10909091])"
      ]
     },
     "execution_count": 7,
     "metadata": {},
     "output_type": "execute_result"
    }
   ],
   "source": [
    "# Independent arm bias - array of probabilities. One for each arm - probability of going there\n",
    "# irrespective of current state\n",
    "\n",
    "INDEPENDENT_ARM_BIAS = np.random.randint(30, size=6)\n",
    "INDEPENDENT_ARM_BIAS = np.divide(INDEPENDENT_ARM_BIAS, np.sum(INDEPENDENT_ARM_BIAS))\n",
    "INDEPENDENT_ARM_BIAS"
   ]
  },
  {
   "cell_type": "code",
   "execution_count": 8,
   "id": "f634cf6e-dda1-42fb-9a75-67fbe5c3c50e",
   "metadata": {},
   "outputs": [
    {
     "data": {
      "text/plain": [
       "0.68"
      ]
     },
     "execution_count": 8,
     "metadata": {},
     "output_type": "execute_result"
    }
   ],
   "source": [
    "# Directional inertia. How likely is agent to continue going direction defined by previous transition?\n",
    "\n",
    "DIRECTIONAL_INERTIA = 0.68\n",
    "DIRECTIONAL_INERTIA"
   ]
  },
  {
   "cell_type": "code",
   "execution_count": 9,
   "id": "fc9083b0-b0bf-4aef-9b67-2fca64e0a64f",
   "metadata": {},
   "outputs": [
    {
     "data": {
      "text/plain": [
       "0.7"
      ]
     },
     "execution_count": 9,
     "metadata": {},
     "output_type": "execute_result"
    }
   ],
   "source": [
    "# Neighbor bias. Preference for animal to choose an adjacent arm over a non-adjacent arm\n",
    "\n",
    "NEIGHBOR_PREFERENCE = 0.7\n",
    "NEIGHBOR_PREFERENCE"
   ]
  },
  {
   "cell_type": "code",
   "execution_count": 10,
   "id": "cdd8faff-65b6-4679-8982-50c965a959bb",
   "metadata": {},
   "outputs": [
    {
     "data": {
      "text/plain": [
       "100000"
      ]
     },
     "execution_count": 10,
     "metadata": {},
     "output_type": "execute_result"
    }
   ],
   "source": [
    "WALK_LENGTH = 100000\n",
    "WALK_LENGTH"
   ]
  },
  {
   "cell_type": "code",
   "execution_count": 18,
   "id": "61bfeb37-0311-43d0-a99c-5e84f9539ae8",
   "metadata": {},
   "outputs": [
    {
     "data": {
      "text/plain": [
       "array([[0.15022   , 0.19717   , 0.15997   , 0.14579   , 0.20125   ,\n",
       "        0.1456    ],\n",
       "       [0.15052   , 0.19761   , 0.16181   , 0.14522   , 0.19898   ,\n",
       "        0.14586   ],\n",
       "       [0.15166   , 0.1986    , 0.16053   , 0.14375   , 0.19964   ,\n",
       "        0.14582   ],\n",
       "       [0.1482    , 0.19286   , 0.15976   , 0.14701   , 0.20427   ,\n",
       "        0.1479    ],\n",
       "       [0.15021   , 0.19535   , 0.16076   , 0.14646   , 0.20186   ,\n",
       "        0.14536   ],\n",
       "       [0.14905   , 0.19491   , 0.1603    , 0.14502   , 0.20297   ,\n",
       "        0.14775   ],\n",
       "       [0.1524    , 0.19854   , 0.16218   , 0.14504   , 0.19792   ,\n",
       "        0.14392   ],\n",
       "       [0.15184   , 0.19586   , 0.16193   , 0.14515   , 0.19982   ,\n",
       "        0.1454    ],\n",
       "       [0.15163   , 0.19731   , 0.16106   , 0.14497   , 0.19917   ,\n",
       "        0.14586   ],\n",
       "       [0.15089   , 0.1967    , 0.16035   , 0.14542   , 0.2013    ,\n",
       "        0.14534   ],\n",
       "       [0.18181818, 0.20909091, 0.2       , 0.08181818, 0.21818182,\n",
       "        0.10909091]])"
      ]
     },
     "execution_count": 18,
     "metadata": {},
     "output_type": "execute_result"
    }
   ],
   "source": [
    "hstack = INDEPENDENT_ARM_BIAS\n",
    "for seed in np.arange(10):\n",
    "    walk_1000000 = generate_walk(WALK_LENGTH, DIRECTIONAL_INERTIA, NEIGHBOR_PREFERENCE, INDEPENDENT_ARM_BIAS, seed=seed)\n",
    "    hstack = np.vstack([empirical_indep_arm_bias(walk_1000000), hstack])\n",
    "hstack"
   ]
  },
  {
   "cell_type": "code",
   "execution_count": 12,
   "id": "daa17ddb-af4c-49b5-9656-0a23963c9880",
   "metadata": {},
   "outputs": [],
   "source": [
    "# Start with directional inertia\n",
    "# probabilities of 1 away, 2 away etc.\n",
    "# just optimize - find parameters that give rise to the statistics we want"
   ]
  },
  {
   "cell_type": "code",
   "execution_count": null,
   "id": "8dc7ff04-7f9a-456f-99d8-494339ac1a39",
   "metadata": {},
   "outputs": [],
   "source": []
  },
  {
   "cell_type": "code",
   "execution_count": 13,
   "id": "27acf76a-26ae-4912-b0f0-bbd8e164c283",
   "metadata": {},
   "outputs": [
    {
     "data": {
      "text/plain": [
       "100000"
      ]
     },
     "execution_count": 13,
     "metadata": {},
     "output_type": "execute_result"
    }
   ],
   "source": [
    "len(walk_1000000)"
   ]
  },
  {
   "cell_type": "code",
   "execution_count": 14,
   "id": "6fb5863f-4964-4ad4-9a5c-4226faaee3ea",
   "metadata": {},
   "outputs": [
    {
     "data": {
      "text/plain": [
       "[4, 3, 4, 5, 3, 5, 4, 3, 1, 2]"
      ]
     },
     "execution_count": 14,
     "metadata": {},
     "output_type": "execute_result"
    }
   ],
   "source": [
    "walk_1000000[:10]"
   ]
  },
  {
   "cell_type": "code",
   "execution_count": 15,
   "id": "bcef5f39-8ba6-4aec-8a20-ccf280d1c18e",
   "metadata": {},
   "outputs": [
    {
     "name": "stdout",
     "output_type": "stream",
     "text": [
      "[0.15022    0.19717    0.15997    0.14579    0.20125    0.1456\n",
      " 0.18181818 0.20909091 0.2        0.08181818 0.21818182 0.10909091]\n"
     ]
    }
   ],
   "source": [
    "print(np.hstack([empirical_indep_arm_bias(walk_1000000), INDEPENDENT_ARM_BIAS]))"
   ]
  },
  {
   "cell_type": "code",
   "execution_count": 16,
   "id": "a422fd92-b0f8-45de-9d3c-be7e451ba6ca",
   "metadata": {},
   "outputs": [
    {
     "data": {
      "text/plain": [
       "array([0.18181818, 0.20909091, 0.2       , 0.08181818, 0.21818182,\n",
       "       0.10909091])"
      ]
     },
     "execution_count": 16,
     "metadata": {},
     "output_type": "execute_result"
    }
   ],
   "source": [
    "INDEPENDENT_ARM_BIAS"
   ]
  },
  {
   "cell_type": "code",
   "execution_count": 17,
   "id": "25f9130b-a25e-4ea1-9275-15d5ea7f1318",
   "metadata": {},
   "outputs": [],
   "source": [
    "# Is directional inertia computed including or excluding edge arms?\n",
    "# Being at an edge arm forces one to change directions. This biases directional\n",
    "# inertia to be lower if these transitions are included during its calculation"
   ]
  },
  {
   "cell_type": "code",
   "execution_count": null,
   "id": "e274bd36-22ac-4fc4-b9ec-0a2bd393a5a0",
   "metadata": {},
   "outputs": [],
   "source": [
    "# just have a sweep policy and a random policy"
   ]
  },
  {
   "cell_type": "code",
   "execution_count": 58,
   "id": "2f8311ff-3ff1-44a3-b773-73c676378c34",
   "metadata": {},
   "outputs": [],
   "source": [
    "curr_arm = 5"
   ]
  },
  {
   "cell_type": "code",
   "execution_count": 59,
   "id": "0740bfce-5f12-4018-8791-99cb5e5892b5",
   "metadata": {},
   "outputs": [
    {
     "data": {
      "text/plain": [
       "-1"
      ]
     },
     "execution_count": 59,
     "metadata": {},
     "output_type": "execute_result"
    }
   ],
   "source": []
  },
  {
   "cell_type": "code",
   "execution_count": 26,
   "id": "e3f1d4ef-3202-4ea5-b05c-a03efc82bc9c",
   "metadata": {},
   "outputs": [],
   "source": [
    "def generate_random_arms(walk_length, seed=0):\n",
    "    all_arms = np.arange(6)\n",
    "    gen = np.random.default_rng(seed)\n",
    "    curr_arm = gen.choice(all_arms)\n",
    "    walk = [curr_arm]\n",
    "    \n",
    "    for step in np.arange(walk_length - 1):\n",
    "        \n",
    "        # don't allow repeat visit\n",
    "        available_arms = np.delete(all_arms, curr_arm)\n",
    "        curr_arm = gen.choice(available_arms)\n",
    "        \n",
    "        walk.append(curr_arm)\n",
    "    \n",
    "    return walk"
   ]
  },
  {
   "cell_type": "code",
   "execution_count": 69,
   "id": "48f181d3-e4d2-4b24-92b9-0f86aa62b3b4",
   "metadata": {},
   "outputs": [],
   "source": [
    "def generate_sweeping_arms(walk_length, seed=0):\n",
    "    all_arms = np.arange(6)\n",
    "    gen = np.random.default_rng(seed)\n",
    "    curr_arm = gen.choice(all_arms)\n",
    "    curr_dir = gen.choice([-1, 1]) if curr_arm % 5 else int(((curr_arm<2.5)-0.5)*2)\n",
    "    walk = [curr_arm]\n",
    "    \n",
    "    for step in np.arange(walk_length - 1):\n",
    "        \n",
    "        curr_arm = curr_arm + curr_dir\n",
    "        curr_dir = curr_dir if curr_arm % 5 else int(((curr_arm<2.5)-0.5)*2)\n",
    "        \n",
    "        walk.append(curr_arm)\n",
    "    \n",
    "    return walk"
   ]
  },
  {
   "cell_type": "code",
   "execution_count": 68,
   "id": "e53cf894-db04-4ade-97a3-6510397f9ebb",
   "metadata": {},
   "outputs": [
    {
     "data": {
      "text/plain": [
       "[2, 3, 4, 5, 4, 3, 2, 1, 0, 1, 2, 3, 4, 5, 4, 3, 2, 1, 0, 1]"
      ]
     },
     "execution_count": 68,
     "metadata": {},
     "output_type": "execute_result"
    }
   ],
   "source": [
    "x = generate_sweeping_arms(10000, seed=1)\n",
    "x[:20]"
   ]
  },
  {
   "cell_type": "code",
   "execution_count": 27,
   "id": "a9786e52-6d8a-432b-b872-c2b21b057963",
   "metadata": {},
   "outputs": [],
   "source": [
    "x = generate_random_arms(10000)"
   ]
  },
  {
   "cell_type": "code",
   "execution_count": 70,
   "id": "92f684b1-334b-441a-ac81-0b2809d01147",
   "metadata": {},
   "outputs": [
    {
     "data": {
      "text/plain": [
       "[0.1, 0.2, 0.2, 0.2, 0.2, 0.1]"
      ]
     },
     "execution_count": 70,
     "metadata": {},
     "output_type": "execute_result"
    }
   ],
   "source": [
    "empirical_indep_arm_bias(x)"
   ]
  },
  {
   "cell_type": "code",
   "execution_count": 30,
   "id": "e6af0fa4-19d2-4429-a14b-8f79839c8e00",
   "metadata": {},
   "outputs": [
    {
     "data": {
      "text/plain": [
       "0.16666666666666666"
      ]
     },
     "execution_count": 30,
     "metadata": {},
     "output_type": "execute_result"
    }
   ],
   "source": [
    "1 / 6"
   ]
  },
  {
   "cell_type": "code",
   "execution_count": 86,
   "id": "c5b432fd-5b3e-4f9b-9b82-434ae7ac8fa8",
   "metadata": {},
   "outputs": [],
   "source": [
    "multi_w_exploration_graph = np.array([[1,1,0,0,0,0,0,0,0,0,0,0,0,0,0,0,0,0,0,0,0,0,0,0,0,0,0,0,0],\n",
    "                              [1,1,1,0,0,0,0,0,0,0,0,0,0,0,0,0,0,0,0,0,0,0,0,0,0,0,0,0,0],\n",
    "                              [0,1,1,1,0,0,0,0,0,0,0,0,0,0,0,0,0,0,0,0,0,0,0,0,0,0,0,0,0],\n",
    "                              [0,0,1,1,1,0,0,0,0,0,0,0,0,0,0,0,0,0,0,0,0,0,0,0,0,0,0,0,0],\n",
    "                              [0,0,0,1,1,0,0,0,1,0,0,0,0,0,0,0,0,0,0,0,0,0,0,0,0,0,0,0,0],\n",
    "                              [0,0,0,0,0,1,1,0,0,0,0,0,0,0,0,0,0,0,0,0,0,0,0,0,0,0,0,0,0],\n",
    "                              [0,0,0,0,0,1,1,1,0,0,0,0,0,0,0,0,0,0,0,0,0,0,0,0,0,0,0,0,0],\n",
    "                              [0,0,0,0,0,0,1,1,1,0,0,0,0,0,0,0,0,0,0,0,0,0,0,0,0,0,0,0,0],\n",
    "                              [0,0,0,0,1,0,0,1,1,1,0,0,0,0,0,0,0,0,0,0,0,0,0,0,0,0,0,0,0],\n",
    "                              [0,0,0,0,0,0,0,0,1,1,0,0,0,1,0,0,0,0,0,0,0,0,0,0,0,0,0,0,0],\n",
    "                              [0,0,0,0,0,0,0,0,0,0,1,1,0,0,0,0,0,0,0,0,0,0,0,0,0,0,0,0,0],\n",
    "                              [0,0,0,0,0,0,0,0,0,0,1,1,1,0,0,0,0,0,0,0,0,0,0,0,0,0,0,0,0],\n",
    "                              [0,0,0,0,0,0,0,0,0,0,0,1,1,1,0,0,0,0,0,0,0,0,0,0,0,0,0,0,0],\n",
    "                              [0,0,0,0,0,0,0,0,0,0,0,0,1,1,1,0,0,0,0,0,0,0,0,0,0,0,0,0,0],\n",
    "                              [0,0,0,0,0,0,0,0,0,0,0,0,0,1,1,0,0,0,1,0,0,0,0,0,0,0,0,0,0],\n",
    "                              [0,0,0,0,0,0,0,0,0,0,0,0,0,0,0,1,1,0,0,0,0,0,0,0,0,0,0,0,0],\n",
    "                              [0,0,0,0,0,0,0,0,0,0,0,0,0,0,0,1,1,1,0,0,0,0,0,0,0,0,0,0,0],\n",
    "                              [0,0,0,0,0,0,0,0,0,0,0,0,0,0,0,0,1,1,1,0,0,0,0,0,0,0,0,0,0],\n",
    "                              [0,0,0,0,0,0,0,0,0,0,0,0,0,0,0,0,0,1,1,1,0,0,0,0,0,0,0,0,0],\n",
    "                              [0,0,0,0,0,0,0,0,0,0,0,0,0,0,0,0,0,0,1,1,0,0,0,1,0,0,0,0,0],\n",
    "                              [0,0,0,0,0,0,0,0,0,0,0,0,0,0,0,0,0,0,0,0,1,1,0,0,0,0,0,0,0],\n",
    "                              [0,0,0,0,0,0,0,0,0,0,0,0,0,0,0,0,0,0,0,0,1,1,1,0,0,0,0,0,0],\n",
    "                              [0,0,0,0,0,0,0,0,0,0,0,0,0,0,0,0,0,0,0,0,0,1,1,1,0,0,0,0,0],\n",
    "                              [0,0,0,0,0,0,0,0,0,0,0,0,0,0,0,0,0,0,0,0,0,0,1,1,1,0,0,0,0],\n",
    "                              [0,0,0,0,0,0,0,0,0,0,0,0,0,0,0,0,0,0,0,0,0,0,0,1,1,0,0,0,1],\n",
    "                              [0,0,0,0,0,0,0,0,0,0,0,0,0,0,0,0,0,0,0,0,0,0,0,0,0,1,1,0,0],\n",
    "                              [0,0,0,0,0,0,0,0,0,0,0,0,0,0,0,0,0,0,0,0,0,0,0,0,0,1,1,1,0],\n",
    "                              [0,0,0,0,0,0,0,0,0,0,0,0,0,0,0,0,0,0,0,0,0,0,0,0,0,0,1,1,1],\n",
    "                              [0,0,0,0,0,0,0,0,0,0,0,0,0,0,0,0,0,0,0,0,0,0,0,0,0,0,0,1,1]])"
   ]
  },
  {
   "cell_type": "code",
   "execution_count": 93,
   "id": "f4a43efd-2386-477a-b997-5e8092cb32b5",
   "metadata": {},
   "outputs": [],
   "source": [
    "def get_path(pred, start, goal):\n",
    "    path = [goal]\n",
    "    k = goal\n",
    "    while pred[start, k] != -9999:\n",
    "        path.append(pred[start, k])\n",
    "        k = pred[start, k]\n",
    "    return path[::-1]"
   ]
  },
  {
   "cell_type": "code",
   "execution_count": 110,
   "id": "8435ce7a-b6b2-437f-bbea-1846ce1b3543",
   "metadata": {},
   "outputs": [],
   "source": [
    "from scipy.sparse.csgraph import shortest_path"
   ]
  },
  {
   "cell_type": "code",
   "execution_count": 111,
   "id": "2468c7a0-17ad-4000-8afe-56b7ea7cb789",
   "metadata": {},
   "outputs": [],
   "source": [
    "dists, pred = shortest_path(multi_w_exploration_graph, directed=False, method='FW', return_predecessors=True)"
   ]
  },
  {
   "cell_type": "code",
   "execution_count": 112,
   "id": "72dd42dd-335f-48cb-a9eb-1b2252bcd04a",
   "metadata": {},
   "outputs": [
    {
     "data": {
      "text/plain": [
       "[0, 1, 2, 3, 4, 8, 9, 13, 14, 18, 19, 23, 24, 28]"
      ]
     },
     "execution_count": 112,
     "metadata": {},
     "output_type": "execute_result"
    }
   ],
   "source": [
    "get_path(pred, 0, 28)"
   ]
  },
  {
   "cell_type": "code",
   "execution_count": 141,
   "id": "89d9a103-9c72-4167-bb28-be9d462981ea",
   "metadata": {},
   "outputs": [],
   "source": [
    "def walk_random_arms(walk, walk_length, seed):\n",
    "\n",
    "    # Arms are identified using the state at their ends, which happen to be arm_num*5\n",
    "    all_arms = np.arange(6)\n",
    "    gen = np.random.default_rng(seed)\n",
    "    curr_arm = gen.choice(all_arms)\n",
    "\n",
    "    # Arm number converts to state by factor of 5\n",
    "    curr_arm_end_state = curr_arm * 5\n",
    "    walk.append(curr_arm_end_state)\n",
    "    arms = [curr_arm]\n",
    "    # Calculate graph properties for shortest path calculation between arms\n",
    "    dists, pred = shortest_path(multi_w_exploration_graph, directed=False, method='FW', return_predecessors=True)\n",
    "\n",
    "    while len(walk) < walk_length:\n",
    "\n",
    "        # Choose next arm, but don't include current arm in possibilities to avoid repeat visits\n",
    "        available_arms = np.delete(all_arms, curr_arm)\n",
    "        new_arm = gen.choice(available_arms)\n",
    "        new_arm_end_state = new_arm * 5\n",
    "        print(new_arm)\n",
    "        # Using the adjacency matrix, create a trajectory using a shortest path traversal from end of curr_arm to end of new_arm\n",
    "        trajectory = get_path(pred, curr_arm_end_state, new_arm_end_state)[1:]\n",
    "\n",
    "        # Update curr_arm now that new_arm has been used\n",
    "        curr_arm = new_arm\n",
    "        curr_arm_end_state = curr_arm * 5\n",
    "\n",
    "        walk.extend(trajectory)\n",
    "        arms.append(new_arm)\n",
    "        \n",
    "    # The final trajectory could have made the walk too long. Truncate walk to be the correct size\n",
    "    walk = walk[:walk_length]\n",
    "\n",
    "    return walk, arms"
   ]
  },
  {
   "cell_type": "code",
   "execution_count": null,
   "id": "82375cc9-4a60-4532-9245-c76c967162f0",
   "metadata": {},
   "outputs": [],
   "source": []
  },
  {
   "cell_type": "code",
   "execution_count": 218,
   "id": "8d9eb744-fdf4-468d-b8d7-fbf28d45d6a3",
   "metadata": {},
   "outputs": [],
   "source": [
    "def get_action_between(start_state, end_state):\n",
    "\n",
    "    actions = start_state[\"actions\"]\n",
    "    end_state_arr = np.eye(29)[:, end_state[\"id\"]]\n",
    "\n",
    "    # Retrieve the action id that would have led to this transition. indexing into actions and then \"id\" is redundant, but kept in case action ids\n",
    "    # ever don't align with indexes in actions list\n",
    "    action_id = actions[np.argwhere([np.array_equal(end_state_arr, action[\"transition\"]) for action in actions])[0, 0]][\"id\"]\n",
    "\n",
    "    return action_id"
   ]
  },
  {
   "cell_type": "code",
   "execution_count": 156,
   "id": "fd3c88e3-adc9-4321-9ef3-e6f2bc6030de",
   "metadata": {},
   "outputs": [],
   "source": [
    "def walk_sweeping_arms(walk, walk_length, seed):\n",
    "\n",
    "    all_arms = np.arange(6)\n",
    "    gen = np.random.default_rng(seed)\n",
    "    curr_arm = gen.choice(all_arms)\n",
    "    curr_dir = gen.choice([-1, 1]) if curr_arm % 5 else int(((curr_arm<2.5)-0.5)*2)\n",
    "\n",
    "    # Arm number converts to state by factor of 5\n",
    "    curr_arm_end_state = curr_arm * 5\n",
    "    walk.append(curr_arm_end_state)\n",
    "\n",
    "    # Calculate graph properties for shortest path calculation between arms\n",
    "    dists, pred = shortest_path(multi_w_exploration_graph, directed=False, method='FW', return_predecessors=True)\n",
    "\n",
    "    while len(walk) < walk_length+1:\n",
    "\n",
    "        # Choose next arm, but don't include current arm in possibilities to avoid repeat visits\n",
    "        new_arm = curr_arm + curr_dir\n",
    "        new_arm_end_state = new_arm * 5\n",
    "        new_dir = curr_dir if new_arm % 5 else int(((new_arm<2.5)-0.5)*2)\n",
    "\n",
    "        # Using the adjacency matrix, create a trajectory using a shortest path traversal from end of curr_arm to end of new_arm\n",
    "        trajectory = [self.locations[loc] for loc in get_path(pred, curr_arm_end_state, new_arm_end_state)]\n",
    "\n",
    "        # Update curr_arm now that new_arm has been used\n",
    "        curr_arm = new_arm\n",
    "        curr_arm_end_state = curr_arm * 5\n",
    "\n",
    "        curr_dir = new_dir\n",
    "\n",
    "        walk.extend(trajectory)\n",
    "\n",
    "    # The final trajectory could have made the walk too long. Truncate walk to be the correct size\n",
    "    walk = walk[:walk_length+1]\n",
    "\n",
    "    # identify observations at each location in completed walk\n",
    "\n",
    "    walk_observations = [self.get_observation(loc) for loc in walk]\n",
    "    walk_actions = [self.get_action_between(walk[i], walk[i+1]) for i in np.arange(len(walk)-1)]\n",
    "    walk = [[walk[i], walk_actions[i]] for i in np.arange(len(walk))]\n",
    "\n",
    "    return walk"
   ]
  },
  {
   "cell_type": "code",
   "execution_count": 225,
   "id": "9894e9f8-145d-4fb7-a41b-81f81e6a633d",
   "metadata": {},
   "outputs": [],
   "source": [
    "def get_action(new_location, walk, repeat_bias_factor=2):\n",
    "    # Build policy from action probability of each action of provided location dictionary\n",
    "    policy = np.array([action['probability'] for action in new_location['actions']])        \n",
    "    # Add a bias for repeating previous action to walk in straight lines, only if (this is not the first step) and (the previous action was a move)\n",
    "    policy[[] if len(walk) == 0 or new_location['id'] == walk[-1][0]['id'] else walk[-1][2]] *= repeat_bias_factor\n",
    "    # And renormalise policy (note that for unavailable actions, the policy was 0 and remains 0, so in that case no renormalisation needed)\n",
    "    policy = policy / sum(policy) if sum(policy) > 0 else policy\n",
    "    # Select action in new state\n",
    "    new_action = int(np.flatnonzero(np.cumsum(policy)>np.random.rand())[0])\n",
    "    # Return the new action\n",
    "    return new_action"
   ]
  },
  {
   "cell_type": "code",
   "execution_count": 226,
   "id": "c89b1f5c-23e5-4ea6-8b40-bec074ca0aec",
   "metadata": {},
   "outputs": [],
   "source": [
    "start_location = {\"id\":3,\"observation\":3,\"x\":0.125,\"y\":0.500,\"in_locations\":[2,3,4],\"in_degree\":3,\"out_locations\":[2,3,4],\"out_degree\":3,\"actions\":\n",
    "[{\"id\":0,\"transition\":[0,0,0,0,0,0,0,0,0,0,0,0,0,0,0,0,0,0,0,0,0,0,0,0,0,0,0,0,0],\"probability\":0},\n",
    " {\"id\":1,\"transition\":[0,0,1,0,0,0,0,0,0,0,0,0,0,0,0,0,0,0,0,0,0,0,0,0,0,0,0,0,0],\"probability\":0.5},\n",
    " {\"id\":2,\"transition\":[0,0,0,0,0,0,0,0,0,0,0,0,0,0,0,0,0,0,0,0,0,0,0,0,0,0,0,0,0],\"probability\":0},\n",
    " {\"id\":3,\"transition\":[0,0,0,0,0,0,0,0,0,0,0,0,0,0,0,0,0,0,0,0,0,0,0,0,0,0,0,0,0],\"probability\":0},\n",
    " {\"id\":4,\"transition\":[0,0,0,0,1,0,0,0,0,0,0,0,0,0,0,0,0,0,0,0,0,0,0,0,0,0,0,0,0],\"probability\":0.5}]}\n",
    "\n",
    "end_location = {\"id\":4,\"observation\":4,\"x\":0.250,\"y\":0.500,\"in_locations\":[3,4,8],\"in_degree\":3,\"out_locations\":[3,4,8],\"out_degree\":3,\"actions\":\n",
    "[{\"id\":0,\"transition\":[0,0,0,0,0,0,0,0,0,0,0,0,0,0,0,0,0,0,0,0,0,0,0,0,0,0,0,0,0],\"probability\":0},\n",
    " {\"id\":1,\"transition\":[0,0,0,0,0,0,0,0,0,0,0,0,0,0,0,0,0,0,0,0,0,0,0,0,0,0,0,0,0],\"probability\":0},\n",
    " {\"id\":2,\"transition\":[0,0,0,0,0,0,0,0,0,0,0,0,0,0,0,0,0,0,0,0,0,0,0,0,0,0,0,0,0],\"probability\":0},\n",
    " {\"id\":3,\"transition\":[0,0,0,1,0,0,0,0,0,0,0,0,0,0,0,0,0,0,0,0,0,0,0,0,0,0,0,0,0],\"probability\":0.5},\n",
    " {\"id\":4,\"transition\":[0,0,0,0,0,0,0,0,1,0,0,0,0,0,0,0,0,0,0,0,0,0,0,0,0,0,0,0,0],\"probability\":0.5}]}"
   ]
  },
  {
   "cell_type": "code",
   "execution_count": 227,
   "id": "e21a73d7-150c-47b0-9c31-4447292b256f",
   "metadata": {},
   "outputs": [
    {
     "ename": "KeyError",
     "evalue": "0",
     "output_type": "error",
     "traceback": [
      "\u001b[0;31m--------------------------------------------------------------------\u001b[0m",
      "\u001b[0;31mKeyError\u001b[0m                           Traceback (most recent call last)",
      "\u001b[0;32m<ipython-input-227-0b9c14137ef5>\u001b[0m in \u001b[0;36m<module>\u001b[0;34m\u001b[0m\n\u001b[0;32m----> 1\u001b[0;31m \u001b[0mget_action\u001b[0m\u001b[0;34m(\u001b[0m\u001b[0mend_location\u001b[0m\u001b[0;34m,\u001b[0m \u001b[0;34m[\u001b[0m\u001b[0mstart_location\u001b[0m\u001b[0;34m]\u001b[0m\u001b[0;34m,\u001b[0m \u001b[0mrepeat_bias_factor\u001b[0m\u001b[0;34m=\u001b[0m\u001b[0;36m2\u001b[0m\u001b[0;34m)\u001b[0m\u001b[0;34m\u001b[0m\u001b[0;34m\u001b[0m\u001b[0m\n\u001b[0m",
      "\u001b[0;32m<ipython-input-225-5115e395cd54>\u001b[0m in \u001b[0;36mget_action\u001b[0;34m(new_location, walk, repeat_bias_factor)\u001b[0m\n\u001b[1;32m      3\u001b[0m     \u001b[0mpolicy\u001b[0m \u001b[0;34m=\u001b[0m \u001b[0mnp\u001b[0m\u001b[0;34m.\u001b[0m\u001b[0marray\u001b[0m\u001b[0;34m(\u001b[0m\u001b[0;34m[\u001b[0m\u001b[0maction\u001b[0m\u001b[0;34m[\u001b[0m\u001b[0;34m'probability'\u001b[0m\u001b[0;34m]\u001b[0m \u001b[0;32mfor\u001b[0m \u001b[0maction\u001b[0m \u001b[0;32min\u001b[0m \u001b[0mnew_location\u001b[0m\u001b[0;34m[\u001b[0m\u001b[0;34m'actions'\u001b[0m\u001b[0;34m]\u001b[0m\u001b[0;34m]\u001b[0m\u001b[0;34m)\u001b[0m\u001b[0;34m\u001b[0m\u001b[0;34m\u001b[0m\u001b[0m\n\u001b[1;32m      4\u001b[0m     \u001b[0;31m# Add a bias for repeating previous action to walk in straight lines, only if (this is not the first step) and (the previous action was a move)\u001b[0m\u001b[0;34m\u001b[0m\u001b[0;34m\u001b[0m\u001b[0m\n\u001b[0;32m----> 5\u001b[0;31m     \u001b[0mpolicy\u001b[0m\u001b[0;34m[\u001b[0m\u001b[0;34m[\u001b[0m\u001b[0;34m]\u001b[0m \u001b[0;32mif\u001b[0m \u001b[0mlen\u001b[0m\u001b[0;34m(\u001b[0m\u001b[0mwalk\u001b[0m\u001b[0;34m)\u001b[0m \u001b[0;34m==\u001b[0m \u001b[0;36m0\u001b[0m \u001b[0;32mor\u001b[0m \u001b[0mnew_location\u001b[0m\u001b[0;34m[\u001b[0m\u001b[0;34m'id'\u001b[0m\u001b[0;34m]\u001b[0m \u001b[0;34m==\u001b[0m \u001b[0mwalk\u001b[0m\u001b[0;34m[\u001b[0m\u001b[0;34m-\u001b[0m\u001b[0;36m1\u001b[0m\u001b[0;34m]\u001b[0m\u001b[0;34m[\u001b[0m\u001b[0;36m0\u001b[0m\u001b[0;34m]\u001b[0m\u001b[0;34m[\u001b[0m\u001b[0;34m'id'\u001b[0m\u001b[0;34m]\u001b[0m \u001b[0;32melse\u001b[0m \u001b[0mwalk\u001b[0m\u001b[0;34m[\u001b[0m\u001b[0;34m-\u001b[0m\u001b[0;36m1\u001b[0m\u001b[0;34m]\u001b[0m\u001b[0;34m[\u001b[0m\u001b[0;36m2\u001b[0m\u001b[0;34m]\u001b[0m\u001b[0;34m]\u001b[0m \u001b[0;34m*=\u001b[0m \u001b[0mrepeat_bias_factor\u001b[0m\u001b[0;34m\u001b[0m\u001b[0;34m\u001b[0m\u001b[0m\n\u001b[0m\u001b[1;32m      6\u001b[0m     \u001b[0;31m# And renormalise policy (note that for unavailable actions, the policy was 0 and remains 0, so in that case no renormalisation needed)\u001b[0m\u001b[0;34m\u001b[0m\u001b[0;34m\u001b[0m\u001b[0m\n\u001b[1;32m      7\u001b[0m     \u001b[0mpolicy\u001b[0m \u001b[0;34m=\u001b[0m \u001b[0mpolicy\u001b[0m \u001b[0;34m/\u001b[0m \u001b[0msum\u001b[0m\u001b[0;34m(\u001b[0m\u001b[0mpolicy\u001b[0m\u001b[0;34m)\u001b[0m \u001b[0;32mif\u001b[0m \u001b[0msum\u001b[0m\u001b[0;34m(\u001b[0m\u001b[0mpolicy\u001b[0m\u001b[0;34m)\u001b[0m \u001b[0;34m>\u001b[0m \u001b[0;36m0\u001b[0m \u001b[0;32melse\u001b[0m \u001b[0mpolicy\u001b[0m\u001b[0;34m\u001b[0m\u001b[0;34m\u001b[0m\u001b[0m\n",
      "\u001b[0;31mKeyError\u001b[0m: 0"
     ]
    }
   ],
   "source": [
    "get_action(end_location, [[start_location]], repeat_bias_factor=2)"
   ]
  },
  {
   "cell_type": "code",
   "execution_count": 222,
   "id": "dcb4fcf7-a6db-4e14-9ca8-ab265dc61636",
   "metadata": {},
   "outputs": [
    {
     "data": {
      "text/plain": [
       "4"
      ]
     },
     "execution_count": 222,
     "metadata": {},
     "output_type": "execute_result"
    }
   ],
   "source": [
    "get_action_between(start_location, end_location)"
   ]
  },
  {
   "cell_type": "code",
   "execution_count": 217,
   "id": "eef9f280-4b4f-46f0-8d13-52943825c88a",
   "metadata": {},
   "outputs": [
    {
     "data": {
      "text/plain": [
       "28"
      ]
     },
     "execution_count": 217,
     "metadata": {},
     "output_type": "execute_result"
    }
   ],
   "source": [
    "len([0,0,0,0,1,0,0,0,0,0,0,0,0,0,0,0,0,0,0,0,0,0,0,0,0,0,0,0])"
   ]
  },
  {
   "cell_type": "code",
   "execution_count": 209,
   "id": "eb00fa95-adf4-4d2a-8106-89f18b816116",
   "metadata": {},
   "outputs": [
    {
     "data": {
      "text/plain": [
       "[25,\n",
       " 26,\n",
       " 27,\n",
       " 28,\n",
       " 24,\n",
       " 23,\n",
       " 22,\n",
       " 21,\n",
       " 20,\n",
       " 21,\n",
       " 22,\n",
       " 23,\n",
       " 19,\n",
       " 18,\n",
       " 17,\n",
       " 16,\n",
       " 15,\n",
       " 16,\n",
       " 17,\n",
       " 18,\n",
       " 14,\n",
       " 13,\n",
       " 12,\n",
       " 11,\n",
       " 10,\n",
       " 11,\n",
       " 12,\n",
       " 13,\n",
       " 9,\n",
       " 8,\n",
       " 7,\n",
       " 6,\n",
       " 5,\n",
       " 6,\n",
       " 7,\n",
       " 8,\n",
       " 4,\n",
       " 3,\n",
       " 2,\n",
       " 1,\n",
       " 0,\n",
       " 1,\n",
       " 2,\n",
       " 3,\n",
       " 4,\n",
       " 8,\n",
       " 7,\n",
       " 6,\n",
       " 5,\n",
       " 6,\n",
       " 7,\n",
       " 8,\n",
       " 9,\n",
       " 13,\n",
       " 12,\n",
       " 11,\n",
       " 10,\n",
       " 11,\n",
       " 12,\n",
       " 13,\n",
       " 14,\n",
       " 18,\n",
       " 17,\n",
       " 16,\n",
       " 15,\n",
       " 16,\n",
       " 17,\n",
       " 18,\n",
       " 19,\n",
       " 23,\n",
       " 22,\n",
       " 21,\n",
       " 20,\n",
       " 21,\n",
       " 22,\n",
       " 23,\n",
       " 24,\n",
       " 28,\n",
       " 27,\n",
       " 26,\n",
       " 25,\n",
       " 26,\n",
       " 27,\n",
       " 28,\n",
       " 24,\n",
       " 23,\n",
       " 22,\n",
       " 21,\n",
       " 20,\n",
       " 21,\n",
       " 22,\n",
       " 23,\n",
       " 19,\n",
       " 18,\n",
       " 17,\n",
       " 16,\n",
       " 15,\n",
       " 16,\n",
       " 17,\n",
       " 18]"
      ]
     },
     "execution_count": 209,
     "metadata": {},
     "output_type": "execute_result"
    }
   ],
   "source": [
    "walk"
   ]
  },
  {
   "cell_type": "code",
   "execution_count": null,
   "id": "a0f01bf3-b4ce-4541-a4bc-1ebe563422a1",
   "metadata": {},
   "outputs": [],
   "source": []
  }
 ],
 "metadata": {
  "kernelspec": {
   "display_name": "Python 3",
   "language": "python",
   "name": "python3"
  },
  "language_info": {
   "codemirror_mode": {
    "name": "ipython",
    "version": 3
   },
   "file_extension": ".py",
   "mimetype": "text/x-python",
   "name": "python",
   "nbconvert_exporter": "python",
   "pygments_lexer": "ipython3",
   "version": "3.9.7"
  }
 },
 "nbformat": 4,
 "nbformat_minor": 5
}
