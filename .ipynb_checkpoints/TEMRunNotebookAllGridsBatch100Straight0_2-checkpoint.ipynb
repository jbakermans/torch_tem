{
 "cells": [
  {
   "cell_type": "code",
   "execution_count": 1,
   "id": "e7e7d1f8-4803-4fd7-9cd5-e1fec2ec2c48",
   "metadata": {},
   "outputs": [],
   "source": [
    "def print_proper_time(seconds):\n",
    "    # hours\n",
    "    if seconds > 3600:\n",
    "        output_str = '{0} hours'.format(seconds / 3600)\n",
    "    # minutes\n",
    "    elif seconds > 60:\n",
    "        output_str = '{0} minutes'.format(seconds / 60)\n",
    "    # seconds\n",
    "    else:\n",
    "        output_str = '{0} seconds'.format(seconds)\n",
    "    return 'Finished running in ' + output_str"
   ]
  },
  {
   "cell_type": "code",
   "execution_count": 2,
   "id": "5b400688-759f-47f4-ae76-3252f1a2660a",
   "metadata": {},
   "outputs": [],
   "source": [
    "from time import time\n",
    "import parameters\n",
    "import run\n",
    "import importlib"
   ]
  },
  {
   "cell_type": "code",
   "execution_count": 3,
   "id": "6e77a198-cdd4-42c9-bf97-85583bc8bfd7",
   "metadata": {},
   "outputs": [
    {
     "data": {
      "text/plain": [
       "<module 'parameters' from '/home/cholobetz/projects/torch_tem/parameters.py'>"
      ]
     },
     "execution_count": 3,
     "metadata": {},
     "output_type": "execute_result"
    }
   ],
   "source": [
    "importlib.reload(run)\n",
    "importlib.reload(parameters)"
   ]
  },
  {
   "cell_type": "code",
   "execution_count": 4,
   "id": "d3f7b267-a604-4058-b397-b57ad05c79a5",
   "metadata": {},
   "outputs": [],
   "source": [
    "custom_params = {}\n",
    "\n",
    "custom_params['envs'] = ['./envs/4x4.json', './envs/5x5.json', './envs/10x10.json']\n",
    "custom_params['train_it'] = 100000\n",
    "custom_params['batch_size'] = 100\n",
    "custom_params['explore_bias'] = 0.2"
   ]
  },
  {
   "cell_type": "code",
   "execution_count": 5,
   "id": "3d580911-dc6a-4490-9e2e-1819d5775cbb",
   "metadata": {},
   "outputs": [],
   "source": [
    "params = parameters.parameters(custom_params)"
   ]
  },
  {
   "cell_type": "markdown",
   "id": "acebfc8d-61a1-449d-b9de-8c9b049ac45b",
   "metadata": {},
   "source": [
    "### Run in all grid environments"
   ]
  },
  {
   "cell_type": "code",
   "execution_count": null,
   "id": "b4399a08-5c41-48f7-9443-2bfdbbfb1bfd",
   "metadata": {},
   "outputs": [],
   "source": [
    "time0 = time()\n",
    "\n",
    "run.run_model(load_existing_model=False, **params)\n"
   ]
  },
  {
   "cell_type": "code",
   "execution_count": null,
   "id": "95a473f5-99e7-4cab-8d99-c1567917ab20",
   "metadata": {},
   "outputs": [],
   "source": [
    "run_time = time() - time0"
   ]
  },
  {
   "cell_type": "code",
   "execution_count": null,
   "id": "f5d58038-2ccb-4327-a75c-79159bd76eb5",
   "metadata": {},
   "outputs": [],
   "source": [
    "print_proper_time(time() - time0)"
   ]
  }
 ],
 "metadata": {
  "kernelspec": {
   "display_name": "Python 3",
   "language": "python",
   "name": "python3"
  },
  "language_info": {
   "codemirror_mode": {
    "name": "ipython",
    "version": 3
   },
   "file_extension": ".py",
   "mimetype": "text/x-python",
   "name": "python",
   "nbconvert_exporter": "python",
   "pygments_lexer": "ipython3",
   "version": "3.9.7"
  }
 },
 "nbformat": 4,
 "nbformat_minor": 5
}
