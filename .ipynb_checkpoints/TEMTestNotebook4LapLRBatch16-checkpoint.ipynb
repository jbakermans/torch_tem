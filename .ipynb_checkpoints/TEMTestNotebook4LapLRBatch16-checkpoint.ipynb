{
 "cells": [
  {
   "cell_type": "code",
   "execution_count": 1,
   "id": "951870fa-d340-4439-9399-5b00d311d56a",
   "metadata": {},
   "outputs": [],
   "source": [
    "from time import time\n",
    "import utils\n",
    "import plot\n",
    "import test\n",
    "import analyse\n",
    "import model\n",
    "import numpy as np\n",
    "import torch"
   ]
  },
  {
   "cell_type": "code",
   "execution_count": 2,
   "id": "c01588ef-3494-406b-b64c-9ef82c34f90e",
   "metadata": {},
   "outputs": [],
   "source": [
    "DATE = '2022-04-07'\n",
    "RUN = '0'\n",
    "PATH = '/cumulus/cristofer/TEM_data/{0}/run{1}/model/'.format(DATE, RUN)\n",
    "SAVE_DIR = '/cumulus/cristofer/TEM_figs/{0}/run{1}/'.format(DATE, RUN)"
   ]
  },
  {
   "cell_type": "code",
   "execution_count": 3,
   "id": "410a0b0b-ecc6-45c0-9c72-0e36c88f7e42",
   "metadata": {},
   "outputs": [
    {
     "data": {
      "text/plain": [
       "16"
      ]
     },
     "execution_count": 3,
     "metadata": {},
     "output_type": "execute_result"
    }
   ],
   "source": [
    "torch.load('/cumulus/cristofer/TEM_data/2022-04-07/run1/model/params_1000.pt')['batch_size']"
   ]
  },
  {
   "cell_type": "markdown",
   "id": "78931268-c060-4b4f-a409-ebcc6c36ec13",
   "metadata": {
    "tags": []
   },
   "source": [
    "## When testing, do node, edge and tem agents follow same sequence of visits? Is that sequence of visits constrained by the training policy?\n",
    "### If not, tem's bad performance could come from the fact that it never travels backwards during training. Thus it never gets a chance to learn backward relationships. If at test time it needs to infer these relationships we could get very bad performance. Should I let it diffuse during training?\n"
   ]
  },
  {
   "cell_type": "code",
   "execution_count": null,
   "id": "45e09d62-e366-4650-9d00-a03936916460",
   "metadata": {},
   "outputs": [
    {
     "name": "stdout",
     "output_type": "stream",
     "text": [
      "Found these untested indexes: ['0', '1000', '2000', '3000', '4000', '5000', '6000', '7000', '8000', '9000', '10000', '11000', '12000', '13000', '14000', '15000', '16000', '17000', '18000', '19000', '20000', '21000', '22000', '23000', '24000', '25000', '26000']\n",
      "Attempting to test all\n"
     ]
    }
   ],
   "source": [
    "test.test_recurring(save_dir=SAVE_DIR, model_directory_path=PATH, date=DATE, run='1', env_to_plot=0, which_plots=['zero-shot', 'rate_maps'], seed=0, already_tested=[], test_period=172800, test_interval=18000)"
   ]
  }
 ],
 "metadata": {
  "kernelspec": {
   "display_name": "Python 3",
   "language": "python",
   "name": "python3"
  },
  "language_info": {
   "codemirror_mode": {
    "name": "ipython",
    "version": 3
   },
   "file_extension": ".py",
   "mimetype": "text/x-python",
   "name": "python",
   "nbconvert_exporter": "python",
   "pygments_lexer": "ipython3",
   "version": "3.9.7"
  }
 },
 "nbformat": 4,
 "nbformat_minor": 5
}
